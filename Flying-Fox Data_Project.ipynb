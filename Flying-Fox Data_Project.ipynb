{
 "cells": [
  {
   "cell_type": "markdown",
   "source": [
    "# Flying-Fox On The Run"
   ],
   "metadata": {
    "slideshow": {
     "slide_type": "slide"
    }
   }
  },
  {
   "cell_type": "markdown",
   "source": [],
   "metadata": {
    "slideshow": {
     "slide_type": "skip"
    }
   }
  },
  {
   "cell_type": "markdown",
   "source": [
    "<img src=\"grey headed flyingfox.png\" alt=\"flyingfox image\" width=\"400px\" style=\"float:right\">\n",
    "\n",
    "<div>The flying-fox monitoring program was implemented to collect information on the abundance and distribution of flying-fox population in eastern Australia over time. The data provides an indication into population trends and other ecological factors. The monitoring of flying-foxes is especially important as two species, the grey-headed flying-fox and the spectacled flying-fox, are listen as threatened under the Commonwealth Environmental Protection and Biodiversity Conservation Act 1999.\n",
    "\n",
    "The Australian Government put $6 million towards Hendra Virus Research. Hendra virus is a bat-borne virus that affected horses, which then can be passed onto people, so the monitoring of flying-foxes also helps inform responsd to concerns about potential Hendra outbreaks</div>"
   ],
   "metadata": {
    "slideshow": {
     "slide_type": "subslide"
    }
   }
  },
  {
   "cell_type": "markdown",
   "source": [
    "The datasets describe Queensland’s known flying-fox roosts and the magnitude of flying-foxes by species (black flying-fox, grey-headed flying-fox, little red flying-fox, spectacled flying-fox).\n",
    "\n",
    "<div style=\"font-size:18px; vertical-align: bottom;\">All datasets were retrieved from data.gov.au</div>"
   ],
   "metadata": {
    "slideshow": {
     "slide_type": "slide"
    }
   }
  },
  {
   "cell_type": "markdown",
   "source": [
    "where flying-foxes are\n",
    "\n",
    "distribution\n",
    "\n",
    "change throughout years"
   ],
   "metadata": {
    "slideshow": {
     "slide_type": "skip"
    }
   }
  },
  {
   "cell_type": "markdown",
   "source": [
    "### Useful Information\n",
    "\n",
    "##### What is a roost/camp\n",
    "A roost or a camp (but i refer to it as a camp throughout the project) are a patch of trees which flying-foxes are found in during the day."
   ],
   "metadata": {
    "slideshow": {
     "slide_type": "slide"
    }
   }
  },
  {
   "cell_type": "markdown",
   "source": [
    "#### I did some imports"
   ],
   "metadata": {
    "slideshow": {
     "slide_type": "slide"
    }
   }
  },
  {
   "cell_type": "code",
   "execution_count": 1,
   "source": [
    "import matplotlib\n",
    "import matplotlib.pyplot as plt\n",
    "import numpy as np\n",
    "import pandas as pd\n",
    "import os\n",
    "import glob\n",
    "import geopandas as gp\n",
    "import shapely\n",
    "import fiona\n",
    "import seaborn as sns\n",
    "from matplotlib import cycler\n",
    "from datetime import datetime\n",
    "from matplotlib import rcParams\n",
    "from shapely.geometry import Point"
   ],
   "outputs": [],
   "metadata": {
    "slideshow": {
     "slide_type": "skip"
    }
   }
  },
  {
   "cell_type": "markdown",
   "source": [
    "#### I also applied some style states"
   ],
   "metadata": {
    "slideshow": {
     "slide_type": "fragment"
    }
   }
  },
  {
   "cell_type": "code",
   "execution_count": 2,
   "source": [
    "%matplotlib inline\n",
    "plt.rcParams['figure.figsize'] = (20, 15)\n",
    "saved_style_state = matplotlib.rcParams.copy()"
   ],
   "outputs": [],
   "metadata": {
    "slideshow": {
     "slide_type": "skip"
    }
   }
  },
  {
   "cell_type": "code",
   "execution_count": 3,
   "source": [
    "colors = cycler(color=['#4c72b0', '#dd8452', '#55a868', '#c44e52', '#8172b3', '#da8bc3'])\r\n",
    "plt.rc('axes', prop_cycle=colors)"
   ],
   "outputs": [],
   "metadata": {
    "slideshow": {
     "slide_type": "skip"
    }
   }
  },
  {
   "cell_type": "markdown",
   "source": [
    "#### Reading and joining datasets"
   ],
   "metadata": {
    "slideshow": {
     "slide_type": "slide"
    }
   }
  },
  {
   "cell_type": "code",
   "execution_count": 4,
   "source": [
    "dataframes = []\r\n",
    "for f in os.listdir(\"fox\"):\r\n",
    "    print(f)\r\n",
    "    df = pd.read_csv(os.path.join(\"fox\", f), parse_dates=[4])\r\n",
    "    dataframes.append(df)\r\n",
    "\r\n",
    "fox_df = pd.concat(dataframes)"
   ],
   "outputs": [
    {
     "output_type": "stream",
     "name": "stdout",
     "text": [
      "flying-fox-monitoring-apr-jul-2016.csv\n",
      "flying-fox-monitoring-apr-jun-2017.csv\n",
      "flying-fox-monitoring-apr-jun-2018.csv\n",
      "flying-fox-monitoring-apr-jun-2019.csv\n",
      "flying-fox-monitoring-jan-mar-2016.csv\n",
      "flying-fox-monitoring-jan-mar-2017.csv\n",
      "flying-fox-monitoring-jan-mar-2018.csv\n",
      "flying-fox-monitoring-jan-mar-2019.csv\n",
      "flying-fox-monitoring-jul-sep-2017.csv\n",
      "flying-fox-monitoring-jul-sep-2018.csv\n",
      "flying-fox-monitoring-jul-sep-2019.csv\n",
      "flying-fox-monitoring-oct-dec-2016.csv\n",
      "flying-fox-monitoring-oct-dec-2017.csv\n",
      "flying-fox-monitoring-oct-dec-2018.csv\n",
      "flying-fox-monitoring-oct-dec-2019.csv\n"
     ]
    }
   ],
   "metadata": {
    "slideshow": {
     "slide_type": "subslide"
    }
   }
  },
  {
   "cell_type": "code",
   "execution_count": 5,
   "source": [
    "fox_df.sample(2)"
   ],
   "outputs": [
    {
     "output_type": "execute_result",
     "data": {
      "text/plain": [
       "   Name of local government               Name of camp   Latitude   Longitude  \\\n",
       "34                   Mackay      Eungella State School -21.135800  148.492000   \n",
       "71           Sunshine Coast  Palmwoods, Dunning Street -26.690983  152.953975   \n",
       "\n",
       "   Date of survey  Flying-fox absent (true/false)  \\\n",
       "34     2016-05-20                           False   \n",
       "71     2019-05-16                           False   \n",
       "\n",
       "    Total number of black flying-fox  Total number of Grey-headed flying-fox  \\\n",
       "34                                 0                                     0.0   \n",
       "71                                 0                                     0.0   \n",
       "\n",
       "    Total number of Little red flying-fox  \\\n",
       "34                                      0   \n",
       "71                                      0   \n",
       "\n",
       "    Total number of Spectacled flying-fox  Total number of all species  \\\n",
       "34                                      0                            0   \n",
       "71                                      0                            0   \n",
       "\n",
       "    EHP camp identification  CSIRO camp identification  \n",
       "34                      307                      340.0  \n",
       "71                      205                      418.0  "
      ],
      "text/html": [
       "<div>\n",
       "<style scoped>\n",
       "    .dataframe tbody tr th:only-of-type {\n",
       "        vertical-align: middle;\n",
       "    }\n",
       "\n",
       "    .dataframe tbody tr th {\n",
       "        vertical-align: top;\n",
       "    }\n",
       "\n",
       "    .dataframe thead th {\n",
       "        text-align: right;\n",
       "    }\n",
       "</style>\n",
       "<table border=\"1\" class=\"dataframe\">\n",
       "  <thead>\n",
       "    <tr style=\"text-align: right;\">\n",
       "      <th></th>\n",
       "      <th>Name of local government</th>\n",
       "      <th>Name of camp</th>\n",
       "      <th>Latitude</th>\n",
       "      <th>Longitude</th>\n",
       "      <th>Date of survey</th>\n",
       "      <th>Flying-fox absent (true/false)</th>\n",
       "      <th>Total number of black flying-fox</th>\n",
       "      <th>Total number of Grey-headed flying-fox</th>\n",
       "      <th>Total number of Little red flying-fox</th>\n",
       "      <th>Total number of Spectacled flying-fox</th>\n",
       "      <th>Total number of all species</th>\n",
       "      <th>EHP camp identification</th>\n",
       "      <th>CSIRO camp identification</th>\n",
       "    </tr>\n",
       "  </thead>\n",
       "  <tbody>\n",
       "    <tr>\n",
       "      <th>34</th>\n",
       "      <td>Mackay</td>\n",
       "      <td>Eungella State School</td>\n",
       "      <td>-21.135800</td>\n",
       "      <td>148.492000</td>\n",
       "      <td>2016-05-20</td>\n",
       "      <td>False</td>\n",
       "      <td>0</td>\n",
       "      <td>0.0</td>\n",
       "      <td>0</td>\n",
       "      <td>0</td>\n",
       "      <td>0</td>\n",
       "      <td>307</td>\n",
       "      <td>340.0</td>\n",
       "    </tr>\n",
       "    <tr>\n",
       "      <th>71</th>\n",
       "      <td>Sunshine Coast</td>\n",
       "      <td>Palmwoods, Dunning Street</td>\n",
       "      <td>-26.690983</td>\n",
       "      <td>152.953975</td>\n",
       "      <td>2019-05-16</td>\n",
       "      <td>False</td>\n",
       "      <td>0</td>\n",
       "      <td>0.0</td>\n",
       "      <td>0</td>\n",
       "      <td>0</td>\n",
       "      <td>0</td>\n",
       "      <td>205</td>\n",
       "      <td>418.0</td>\n",
       "    </tr>\n",
       "  </tbody>\n",
       "</table>\n",
       "</div>"
      ]
     },
     "metadata": {},
     "execution_count": 5
    }
   ],
   "metadata": {
    "slideshow": {
     "slide_type": "subslide"
    }
   }
  },
  {
   "cell_type": "markdown",
   "source": [
    "#### Shape of dataset"
   ],
   "metadata": {
    "slideshow": {
     "slide_type": "slide"
    }
   }
  },
  {
   "cell_type": "code",
   "execution_count": 6,
   "source": [
    "shape = fox_df.shape\r\n",
    "print(\"Rows: \" + str(shape[0]))\r\n",
    "print(\"Columns: \" + str(shape[1]))\r\n",
    "\r\n",
    "foxlist = \"Total number of black flying-fox\", \"Total number of Grey-headed flying-fox\", \"Total number of Little red flying-fox\", \"Total number of Spectacled flying-fox\"\r\n",
    "fox_df.columns\r\n",
    "\r\n",
    "print(\"Each row in the data is one survey entry\")"
   ],
   "outputs": [
    {
     "output_type": "stream",
     "name": "stdout",
     "text": [
      "Rows: 1763\n",
      "Columns: 13\n",
      "Each row in the data is one survey entry\n"
     ]
    }
   ],
   "metadata": {
    "slideshow": {
     "slide_type": "fragment"
    }
   }
  },
  {
   "cell_type": "markdown",
   "source": [
    "#### General Overview of Where Flying-Foxes Are"
   ],
   "metadata": {
    "slideshow": {
     "slide_type": "slide"
    }
   }
  },
  {
   "cell_type": "code",
   "execution_count": 7,
   "source": [
    "fox_df_campclean = fox_df.drop_duplicates(\"Name of camp\")"
   ],
   "outputs": [],
   "metadata": {}
  },
  {
   "cell_type": "code",
   "execution_count": 8,
   "source": [
    "reversed_fox_df = fox_df_campclean[\"Name of local government\"].value_counts().plot.barh()\r\n",
    "reversed_fox_df.invert_yaxis()\r\n",
    "plt.title(\"Amount of Known Camps in each Local Government Areas\", fontsize=18)\r\n",
    "plt.xlabel('Amount', fontsize=15)\r\n",
    "plt.ylabel('Name of Local Government', fontsize=15)\r\n",
    "plt.grid(False)\r\n",
    "plt.show()"
   ],
   "outputs": [
    {
     "output_type": "display_data",
     "data": {
      "text/plain": [
       "<Figure size 1440x1080 with 1 Axes>"
      ],
      "image/png": "[encoded data removed]"
     },
     "metadata": {
      "needs_background": "light"
     }
    }
   ],
   "metadata": {
    "slideshow": {
     "slide_type": "subslide"
    }
   }
  },
  {
   "cell_type": "markdown",
   "source": [
    "##### Queensland mapping"
   ],
   "metadata": {}
  },
  {
   "cell_type": "code",
   "execution_count": null,
   "source": [
    "zip_file_name = \"maps\\qld_locality_polygon_shp.zip\"\r\n",
    "shp_file_name = \"QLD_LOCALITY_POLYGON_shp\"\r\n",
    "def unzip_zipfile(zipped_file_path, put_it_here=\".\"):\r\n",
    "    import zipfile\r\n",
    "    zip_of_suburbs = zipfile.ZipFile(zipped_file_path, 'r')\r\n",
    "    zip_of_suburbs.extractall(put_it_here)\r\n",
    "    zip_of_suburbs.close()\r\n",
    "\r\n",
    "\r\n",
    "map_file = unzip_zipfile(zip_file_name)\r\n",
    "\r\n",
    "burbs = gp.GeoDataFrame.from_file(shp_file_name)\r\n",
    "burbs.set_crs(epsg=5234, inplace=True, allow_override=True) \r\n",
    "burbs.head(7)\r\n",
    "\r\n",
    "cols_to_drop = [\"QLD_LOCA_1\", \"QLD_LOCA_3\", \"QLD_LOCA_4\", \"QLD_LOCA_6\", \"DT_RETIRE\"]\r\n",
    "burbs.drop(cols_to_drop, axis=1, inplace=True, errors=\"ignore\")\r\n",
    "burbs.head(7)"
   ],
   "outputs": [],
   "metadata": {}
  },
  {
   "cell_type": "code",
   "execution_count": null,
   "source": [
    "qld_cities_df = pd.read_csv(\"queensland cities.csv\")\r\n",
    "qld_cities_df[\"Coordinates\"] = list(zip(qld_cities_df.lng, qld_cities_df.lat))\r\n",
    "qld_cities_df.head()\r\n",
    "qld_cities_df[\"Coordinates\"] = qld_cities_df[\"Coordinates\"].apply(Point)\r\n",
    "qld_cities_df.head()\r\n",
    "\r\n",
    "qld_cities_gdf = gp.GeoDataFrame(qld_cities_df, geometry=\"Coordinates\")"
   ],
   "outputs": [],
   "metadata": {}
  }
 ],
 "metadata": {
  "celltoolbar": "Slideshow",
  "interpreter": {
   "hash": "020f7d036e9df261a2a01114164e80f3ac6ec812dc6603c210a5c80f4ebbffb1"
  },
  "kernelspec": {
   "display_name": "Python 3",
   "language": "python",
   "name": "python3"
  },
  "language_info": {
   "codemirror_mode": {
    "name": "ipython",
    "version": 3
   },
   "file_extension": ".py",
   "mimetype": "text/x-python",
   "name": "python",
   "nbconvert_exporter": "python",
   "pygments_lexer": "ipython3",
   "version": "3.8.8"
  }
 },
 "nbformat": 4,
 "nbformat_minor": 2
}